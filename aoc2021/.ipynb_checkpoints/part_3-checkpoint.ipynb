{
 "cells": [
  {
   "cell_type": "code",
   "execution_count": 2,
   "metadata": {},
   "outputs": [],
   "source": [
    "f = open(\"input_day_3.txt\", \"r\")\n",
    "#lines = [line for line in f.read().splitlines()]\n",
    "lines = [[int(x) for x in list(line)] for line in f.read().splitlines()]\n",
    "\n",
    "#linez = ['00100','11110', '10110', '10111','10101','01111','00111','11100','10000','11001','00010','01010']\n",
    "#lines = [[int(x) for x in list(line)] for line in linez]"
   ]
  },
  {
   "cell_type": "code",
   "execution_count": 3,
   "metadata": {},
   "outputs": [
    {
     "name": "stdout",
     "output_type": "stream",
     "text": [
      "Part 1: 845186\n",
      "Part 2: 4636702\n"
     ]
    }
   ],
   "source": [
    "#PART 1\n",
    "def get_most_and_least_common(lines):\n",
    "    results = []\n",
    "    for i in range(len(lines[0])):\n",
    "        result = 0\n",
    "        for j in range(0, len(lines)):\n",
    "            result += lines[j][i]\n",
    "        results.append(result)\n",
    "               \n",
    "    gammas = [0 if res < len(lines)/2 else 1 for res in results]\n",
    "    epsilons = [0 if g==1 else 1 for g in gammas]\n",
    "        \n",
    "    return {'most': gammas, 'least': epsilons}\n",
    "\n",
    "def get_binary(ints):\n",
    "    return  int(''.join([str(i) for i in ints]),2)\n",
    "                         \n",
    "results = get_most_and_least_common(lines)\n",
    "\n",
    "gamma = get_binary(results['most'])\n",
    "epsilon = get_binary(results['least'])\n",
    "                         \n",
    "print('Part 1:', gamma*epsilon)\n",
    "\n",
    "#PART 2\n",
    "\n",
    "ogr = lines.copy()\n",
    "csr = lines.copy()\n",
    "\n",
    "for j in range(len(lines[0])):\n",
    "    most_common = get_most_and_least_common(ogr)['most'][j]\n",
    "    least_common = get_most_and_least_common(csr)['least'][j]\n",
    "       \n",
    "    for i in range(len(lines)-1, -1, -1):\n",
    "        if len(ogr) > i and len(ogr) != 1:\n",
    "            if ogr[i][j] != most_common:\n",
    "                del ogr[i]\n",
    "        if len(csr) > i and len(csr) != 1:\n",
    "            if csr[i][j] != least_common:\n",
    "                del csr[i]\n",
    "                \n",
    "ogr_ = get_binary(ogr[0])\n",
    "csr_ = get_binary(csr[0])\n",
    "\n",
    "\n",
    "print('Part 2:',ogr_*csr_)"
   ]
  }
 ],
 "metadata": {
  "kernelspec": {
   "display_name": "Python 3 (ipykernel)",
   "language": "python",
   "name": "python3"
  },
  "language_info": {
   "codemirror_mode": {
    "name": "ipython",
    "version": 3
   },
   "file_extension": ".py",
   "mimetype": "text/x-python",
   "name": "python",
   "nbconvert_exporter": "python",
   "pygments_lexer": "ipython3",
   "version": "3.9.7"
  }
 },
 "nbformat": 4,
 "nbformat_minor": 4
}
