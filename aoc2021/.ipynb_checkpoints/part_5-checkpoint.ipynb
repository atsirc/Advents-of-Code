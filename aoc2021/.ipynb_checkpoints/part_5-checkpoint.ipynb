{
 "cells": [
  {
   "cell_type": "code",
   "execution_count": 27,
   "id": "c96a8672-e901-4be3-ab05-1a052ade7386",
   "metadata": {},
   "outputs": [],
   "source": [
    "file_ = open(\"input_day_5.txt\")\n",
    "lines = [(start.split(','), end.split(',')) for start, end in (line.split(' -> ') for line in file_.read().splitlines())]"
   ]
  },
  {
   "cell_type": "code",
   "execution_count": 28,
   "id": "66dcb5ba-2693-4aaa-a6f4-0dc51e7fc4fa",
   "metadata": {},
   "outputs": [
    {
     "name": "stdout",
     "output_type": "stream",
     "text": [
      "Part 1: 6007\n"
     ]
    }
   ],
   "source": [
    "points = dict()\n",
    "for line in lines:\n",
    "    p1, p2 = [(int(part[0]), int(part[1])) for part in line]\n",
    "    if p1[0] == p2[0] or p1[1] == p2[1]:\n",
    "        vertical = p1[0] == p2[0]\n",
    "        start = min(p1[1], p2[1]) if vertical else min(p1[0], p2[0])\n",
    "        end = max(p1[1], p2[1]) if vertical else  max(p1[0], p2[0])\n",
    "        for i in range (start, end + 1):\n",
    "            xy = (p1[0], i) if vertical else (i, p1[1])\n",
    "            points[xy] = points.get(xy,0) + 1\n",
    "\n",
    "print('Part 1:', sum([1 for value in points.values() if  value >  1]))"
   ]
  },
  {
   "cell_type": "code",
   "execution_count": 25,
   "id": "83b9ecd0-5fd8-4816-af8b-e939f1b21f7a",
   "metadata": {},
   "outputs": [],
   "source": [
    "points_2 = points.copy()\n",
    "for line in lines:\n",
    "    p1,p2 = [(int(part[0]), int(part[1])) for part in line]\n",
    "    if p1[0] != p2[0] and p1[1] != p2[1]:\n",
    "        left, right = (p1, p2) if p1[0] < p2[0] else (p2, p1)\n",
    "        y = left[1]\n",
    "        for x in range(left[0], right[0] + 1):\n",
    "            points_2[(x,y)] = points_2.get((x,y),0) + 1\n",
    "            if right[1] < left[1]:\n",
    "                y -= 1\n",
    "            else:\n",
    "                y += 1\n",
    "            "
   ]
  },
  {
   "cell_type": "code",
   "execution_count": 26,
   "id": "e503614a-79c9-4165-8dc1-e6c8cdcec690",
   "metadata": {},
   "outputs": [
    {
     "name": "stdout",
     "output_type": "stream",
     "text": [
      "Part 2: 19349\n"
     ]
    }
   ],
   "source": [
    "print('Part 2:', sum([1 for value in points_2.values() if  value >  1]))"
   ]
  },
  {
   "cell_type": "code",
   "execution_count": null,
   "id": "01dbaa7a-8873-4a67-ba36-f2600912a8f1",
   "metadata": {},
   "outputs": [],
   "source": []
  }
 ],
 "metadata": {
  "kernelspec": {
   "display_name": "Python 3 (ipykernel)",
   "language": "python",
   "name": "python3"
  },
  "language_info": {
   "codemirror_mode": {
    "name": "ipython",
    "version": 3
   },
   "file_extension": ".py",
   "mimetype": "text/x-python",
   "name": "python",
   "nbconvert_exporter": "python",
   "pygments_lexer": "ipython3",
   "version": "3.9.7"
  },
  "toc-autonumbering": true,
  "toc-showcode": true,
  "toc-showmarkdowntxt": true,
  "toc-showtags": true
 },
 "nbformat": 4,
 "nbformat_minor": 5
}
