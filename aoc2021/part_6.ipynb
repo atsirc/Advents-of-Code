{
 "cells": [
  {
   "cell_type": "code",
   "execution_count": 67,
   "id": "97c35934-0965-40df-9183-34733a8a1eea",
   "metadata": {
    "execution": {
     "iopub.execute_input": "2021-12-06T13:04:47.590709Z",
     "iopub.status.busy": "2021-12-06T13:04:47.588526Z",
     "iopub.status.idle": "2021-12-06T13:04:47.712004Z",
     "shell.execute_reply": "2021-12-06T13:04:47.709841Z",
     "shell.execute_reply.started": "2021-12-06T13:04:47.590366Z"
    },
    "tags": []
   },
   "outputs": [],
   "source": [
    "import numpy as np\n",
    "nums = np.array([4,1,1,1,5,1,3,1,5,3,4,3,3,1,3,3,1,5,3,2,4,4,3,4,1,4,2,2,1,3,5,1,1,3,2,5,1,1,4,2,5,4,3,2,5,3,3,4,5,4,3,5,4,2,5,5,2,2,2,3,5,5,4,2,1,1,5,1,4,3,2,2,1,2,1,5,3,3,3,5,1,5,4,2,2,2,1,4,2,5,2,3,3,2,3,4,4,1,4,4,3,1,1,1,1,1,4,4,5,4,2,5,1,5,4,4,5,2,3,5,4,1,4,5,2,1,1,2,5,4,5,5,1,1,1,1,1,4,5,3,1,3,4,3,3,1,5,4,2,1,4,4,4,1,1,3,1,3,5,3,1,4,5,3,5,1,1,2,2,4,4,1,4,1,3,1,1,3,1,3,3,5,4,2,1,1,2,1,2,3,3,5,4,1,1,2,1,2,5,3,1,5,4,3,1,5,2,3,4,4,3,1,1,1,2,1,1,2,1,5,4,2,2,1,4,3,1,1,1,1,3,1,5,2,4,1,3,2,3,4,3,4,2,1,2,1,2,4,2,1,5,2,2,5,5,1,1,2,3,1,1,1,3,5,1,3,5,1,3,3,2,4,5,5,3,1,4,1,5,2,4,5,5,5,2,4,2,2,5,2,4,1,3,2,1,1,4,4,1,5])\n",
    "#nums = np.array([3,4,3,1,2])\n",
    "days_at_start = list(set(nums))\n",
    "fish_w_date = { day: (nums == day).sum() for day in days_at_start }"
   ]
  },
  {
   "cell_type": "code",
   "execution_count": 68,
   "id": "f8da73a7-067b-455b-bbe3-307eabd1958c",
   "metadata": {
    "execution": {
     "iopub.execute_input": "2021-12-06T13:04:47.942238Z",
     "iopub.status.busy": "2021-12-06T13:04:47.941459Z",
     "iopub.status.idle": "2021-12-06T13:04:48.044962Z",
     "shell.execute_reply": "2021-12-06T13:04:48.043211Z",
     "shell.execute_reply.started": "2021-12-06T13:04:47.942170Z"
    },
    "tags": []
   },
   "outputs": [
    {
     "name": "stdout",
     "output_type": "stream",
     "text": [
      "352195\n"
     ]
    }
   ],
   "source": [
    "#My bad solution for part 1\n",
    "days = 80\n",
    "totals = dict()\n",
    "for num in days_at_start:\n",
    "    fish = [num]\n",
    "    for day in range(days):\n",
    "        for i in range(len(fish)):\n",
    "            if fish[i] == 0:\n",
    "                fish.append(8)\n",
    "            number = fish[i]-1\n",
    "            fish[i] = number if number == 7 else number % 7\n",
    "        totals[num] = len(fish)*fish_w_date[num]\n",
    "print(sum(totals.values()))"
   ]
  },
  {
   "cell_type": "code",
   "execution_count": 69,
   "id": "47e7249b-6e9f-4a17-9305-0a33322c09c3",
   "metadata": {
    "execution": {
     "iopub.execute_input": "2021-12-06T13:04:48.448371Z",
     "iopub.status.busy": "2021-12-06T13:04:48.447759Z",
     "iopub.status.idle": "2021-12-06T13:04:48.474660Z",
     "shell.execute_reply": "2021-12-06T13:04:48.472214Z",
     "shell.execute_reply.started": "2021-12-06T13:04:48.448304Z"
    },
    "tags": []
   },
   "outputs": [
    {
     "name": "stdout",
     "output_type": "stream",
     "text": [
      "1600306001288\n"
     ]
    }
   ],
   "source": [
    "#solution derived from other solutions in the reddit thread\n",
    "def get_population_in(days):\n",
    "    for day in range(days):\n",
    "        repr_amount = fish_w_date.get(0,0)\n",
    "        \n",
    "        for i in range(max(fish_w_date.keys())+1):\n",
    "            #shifts values, 8s values becomes 0 because no 9 day fish generations\n",
    "            fish_w_date[i] = fish_w_date.get(i+1,0)\n",
    "            \n",
    "        #adds the fishes that have reproduced to the fishes that matured from day 7 to 6\n",
    "        fish_w_date[6] = fish_w_date.get(6,0) + repr_amount\n",
    "        #adds the new generation\n",
    "        fish_w_date[8] = repr_amount\n",
    "\n",
    "    return fish_w_date.values()\n",
    "\n",
    "print(sum(get_population_in(256)))"
   ]
  },
  {
   "cell_type": "code",
   "execution_count": null,
   "id": "4f948bdd-bdbf-4931-bff9-9a6c34faa530",
   "metadata": {},
   "outputs": [],
   "source": []
  }
 ],
 "metadata": {
  "kernelspec": {
   "display_name": "Python 3 (ipykernel)",
   "language": "python",
   "name": "python3"
  },
  "language_info": {
   "codemirror_mode": {
    "name": "ipython",
    "version": 3
   },
   "file_extension": ".py",
   "mimetype": "text/x-python",
   "name": "python",
   "nbconvert_exporter": "python",
   "pygments_lexer": "ipython3",
   "version": "3.9.7"
  },
  "toc-autonumbering": false
 },
 "nbformat": 4,
 "nbformat_minor": 5
}
