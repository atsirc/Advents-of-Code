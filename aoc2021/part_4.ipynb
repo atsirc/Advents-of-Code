{
 "cells": [
  {
   "cell_type": "code",
   "execution_count": 2,
   "metadata": {},
   "outputs": [],
   "source": [
    "f = open('input_day_4.txt', 'r')\n",
    "parts = f.read().split('\\n\\n')\n",
    "numbers = [int(x) for x in parts.pop(0).split(',')]\n"
   ]
  },
  {
   "cell_type": "code",
   "execution_count": 3,
   "metadata": {},
   "outputs": [
    {
     "name": "stdout",
     "output_type": "stream",
     "text": [
      "Part 1: 38594\n",
      "\n",
      " 73 41 26 87 95\n",
      " 62 99 58 9  20\n",
      " 45 10 71 28 39\n",
      " 89 17 29 46 81\n",
      " 49 35 24 74 32\n",
      "\n",
      "\n",
      "Part 2: 21184\n",
      "\n",
      " 86 89 64 69 76\n",
      " 53 82 24 16 51\n",
      " 67 75 3  33 21\n",
      " 23 63 99 13 43\n",
      " 4  39 7  73 87\n",
      "\n",
      "\n"
     ]
    }
   ],
   "source": [
    "class Board:\n",
    "\n",
    "    def __init__(self, board):\n",
    "        self.board = dict()\n",
    "        self.found = list()\n",
    "        self.winning_number = None\n",
    "        self.size = None\n",
    "        lines = board.split('\\n')\n",
    "        for y in range(len(lines)):\n",
    "            line = [int(x) for x in lines[y].split()]\n",
    "            if not self.size:\n",
    "                self.size =  {'width': len(line), 'height': len(lines)}\n",
    "            for x in range(len(line)):\n",
    "                self.board[line[x]] = {'x':x,'y': y}\n",
    "    \n",
    "    def has_full_row(self):\n",
    "        bingo = False\n",
    "        for xy in self.found:\n",
    "            if xy['x'] == 0 and not bingo:\n",
    "                bingo = True\n",
    "                for x in range(1, self.size['width']):\n",
    "                    if {'x': x, 'y': xy['y']} not in self.found:\n",
    "                        bingo = False\n",
    "            if xy['y'] == 0 and not bingo:\n",
    "                bingo = True\n",
    "                for y in range(1, self.size['height']):\n",
    "                    if {'x': xy['x'], 'y': y} not in self.found:\n",
    "                        bingo = False\n",
    "        return bingo\n",
    "    \n",
    "    def check_if_bingo(self,num):\n",
    "        if not self.winning_number and num in self.board:\n",
    "            self.found.append(self.board[num])\n",
    "            bingo = self.has_full_row()\n",
    "            if bingo:\n",
    "                self.winning_number = num\n",
    "                return True\n",
    "        return False\n",
    "        \n",
    "    def get_result(self):\n",
    "        sum_ = sum([number for number, pos in self.board.items() if pos not in self.found])\n",
    "        return sum_ * self.winning_number\n",
    "        \n",
    "    def __str__(self):\n",
    "        board_ = {(y['x'], y['y']):x for x,y in self.board.items()}\n",
    "        string = ''\n",
    "        for y in range(self.size['height']):\n",
    "            for x in range(self.size['width']):\n",
    "                string += ' ' + str(board_[(x,y)]) + ' ' if board_[(x,y)] < 10 else ' ' + str(board_[(x,y)])\n",
    "            string += '\\n'\n",
    "        \n",
    "        return string\n",
    "\n",
    "boards = [Board(string) for string in parts]\n",
    "bingos = [board for num in numbers for board in boards if board.check_if_bingo(num)]\n",
    "\n",
    "print('Part 1:', bingos[0].get_result())\n",
    "print(f'\\n{bingos[0]}\\n')\n",
    "print('Part 2:', bingos[-1].get_result())\n",
    "print(f'\\n{bingos[-1]}\\n')"
   ]
  },
  {
   "cell_type": "code",
   "execution_count": null,
   "metadata": {},
   "outputs": [],
   "source": []
  }
 ],
 "metadata": {
  "kernelspec": {
   "display_name": "Python 3 (ipykernel)",
   "language": "python",
   "name": "python3"
  },
  "language_info": {
   "codemirror_mode": {
    "name": "ipython",
    "version": 3
   },
   "file_extension": ".py",
   "mimetype": "text/x-python",
   "name": "python",
   "nbconvert_exporter": "python",
   "pygments_lexer": "ipython3",
   "version": "3.9.7"
  }
 },
 "nbformat": 4,
 "nbformat_minor": 4
}
